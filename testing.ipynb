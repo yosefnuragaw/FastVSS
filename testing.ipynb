{
 "cells": [
  {
   "cell_type": "markdown",
   "metadata": {},
   "source": [
    "# FastVSS\n",
    "A Hyperdimensional Computing search engine model that receive text query input from user and retrieve multiple correlated item with time efficient and competitive performance.\n"
   ]
  },
  {
   "cell_type": "markdown",
   "metadata": {},
   "source": [
    "## Initialization"
   ]
  },
  {
   "cell_type": "code",
   "execution_count": 1,
   "metadata": {},
   "outputs": [
    {
     "name": "stderr",
     "output_type": "stream",
     "text": [
      "[nltk_data] Downloading package stopwords to\n",
      "[nltk_data]     C:\\Users\\Yosef\\AppData\\Roaming\\nltk_data...\n",
      "[nltk_data]   Package stopwords is already up-to-date!\n"
     ]
    },
    {
     "name": "stdout",
     "output_type": "stream",
     "text": [
      "2024-08-15 11:41:16.002074|STATUS:Loading Dictionary\n",
      "2024-08-15 11:41:16.507020|STATUS:Precomputing Product\n",
      "2024-08-15 11:41:16.671733|STATUS:Preparing WANDS\n",
      "2024-08-15 11:41:21.177418|STATUS:Building Model Done\n"
     ]
    }
   ],
   "source": [
    "from fastvss import FastVSS\n",
    "import torch\n",
    "import random\n",
    "import os\n",
    "import numpy as np\n",
    "import pandas as pd\n",
    "import polars as pl\n",
    "import warnings\n",
    "\n",
    "SEED = 42\n",
    "random.seed(SEED)\n",
    "os.environ['PYTHONHASHSEED'] = str(SEED)\n",
    "np.random.seed(SEED)\n",
    "torch.manual_seed(SEED)\n",
    "torch.cuda.manual_seed(SEED)\n",
    "torch.cuda.manual_seed_all(SEED) \n",
    "torch.backends.cudnn.benchmark = False\n",
    "torch.backends.cudnn.deterministic = True\n",
    "torch.backends.cudnn.enabled = False\n",
    "\n",
    "# device = torch.device(\"cuda\" if torch.cuda.is_available() else \"cpu\")\n",
    "device = torch.device('cpu')\n",
    "pdf = pd.read_csv('WANDS/product.csv',sep='\\t')\n",
    "qdf = pd.read_csv('WANDS/query.csv',sep='\\t')\n",
    "ldf = pd.read_csv('WANDS/label.csv',sep='\\t')\n",
    "\n",
    "model = FastVSS(\n",
    "    n_dimensions=1000,\n",
    "    product_df=pdf,\n",
    "    query_df=qdf,\n",
    "    label_df=ldf,\n",
    "    verbose=True,\n",
    "    pretrain_w2v='hyper_w2v_1000.model',\n",
    "    pretrain_pvs='hyper_pvs_1000.pt',\n",
    "    device=device\n",
    "    )"
   ]
  },
  {
   "cell_type": "markdown",
   "metadata": {},
   "source": [
    "## Leave-One-Group-Out Cross Validation\n",
    "---\n",
    "Takes long time (estimated 31 Hours)"
   ]
  },
  {
   "cell_type": "code",
   "execution_count": null,
   "metadata": {},
   "outputs": [],
   "source": [
    "SEED = 42\n",
    "random.seed(SEED)\n",
    "os.environ['PYTHONHASHSEED'] = str(SEED)\n",
    "np.random.seed(SEED)\n",
    "torch.manual_seed(SEED)\n",
    "torch.cuda.manual_seed(SEED)\n",
    "torch.cuda.manual_seed_all(SEED) \n",
    "torch.backends.cudnn.benchmark = False\n",
    "torch.backends.cudnn.deterministic = True\n",
    "torch.backends.cudnn.enabled = False\n",
    "\n",
    "model.validate()"
   ]
  },
  {
   "cell_type": "markdown",
   "metadata": {},
   "source": [
    "## Test\n",
    "---"
   ]
  },
  {
   "cell_type": "markdown",
   "metadata": {},
   "source": [
    "### Fitting"
   ]
  },
  {
   "cell_type": "code",
   "execution_count": 2,
   "metadata": {},
   "outputs": [
    {
     "name": "stderr",
     "output_type": "stream",
     "text": [
      "Fitting WANDS: 100%|██████████| 233448/233448 [02:08<00:00, 1817.52it/s]\n"
     ]
    }
   ],
   "source": [
    "SEED = 42\n",
    "random.seed(SEED)\n",
    "os.environ['PYTHONHASHSEED'] = str(SEED)\n",
    "np.random.seed(SEED)\n",
    "torch.manual_seed(SEED)\n",
    "torch.cuda.manual_seed(SEED)\n",
    "torch.cuda.manual_seed_all(SEED) \n",
    "torch.backends.cudnn.benchmark = False\n",
    "torch.backends.cudnn.deterministic = True\n",
    "torch.backends.cudnn.enabled = False\n",
    "\n",
    "model.fit()"
   ]
  },
  {
   "cell_type": "code",
   "execution_count": 3,
   "metadata": {},
   "outputs": [
    {
     "name": "stderr",
     "output_type": "stream",
     "text": [
      "Predicting WANDS: 100%|██████████| 424/424 [00:00<00:00, 1723.41it/s]\n"
     ]
    },
    {
     "name": "stdout",
     "output_type": "stream",
     "text": [
      " Time taken for this query: 78.125 ms \n",
      " shape: (25, 4)\n",
      "┌─────────────────────────────────┬───────────────────────┬──────┬──────────┐\n",
      "│ item                            ┆ group                 ┆ type ┆ score    │\n",
      "│ ---                             ┆ ---                   ┆ ---  ┆ ---      │\n",
      "│ str                             ┆ str                   ┆ i64  ┆ f64      │\n",
      "╞═════════════════════════════════╪═══════════════════════╪══════╪══════════╡\n",
      "│ belle meade rectangular molded… ┆ Wall & Accent Mirrors ┆ 2    ┆ 0.011423 │\n",
      "│ lafontaine rustic distressed a… ┆ Wall & Accent Mirrors ┆ 2    ┆ 0.009781 │\n",
      "│ swenson rustic distressed vani… ┆ Wall & Accent Mirrors ┆ 2    ┆ 0.008312 │\n",
      "│ twig rustic beveled accent mir… ┆ Wall & Accent Mirrors ┆ 2    ┆ 0.007837 │\n",
      "│ rustic distressed mirror set    ┆ Wall & Accent Mirrors ┆ 2    ┆ 0.007046 │\n",
      "│ …                               ┆ …                     ┆ …    ┆ …        │\n",
      "│ emert beveled distressed accen… ┆ Wall & Accent Mirrors ┆ 2    ┆ 0.003705 │\n",
      "│ kittery beveled distressed acc… ┆ Wall & Accent Mirrors ┆ 2    ┆ 0.003584 │\n",
      "│ karpeta rustic mirror           ┆ Wall & Accent Mirrors ┆ 2    ┆ 0.003191 │\n",
      "│ topanga embossed global inspir… ┆ Wall & Accent Mirrors ┆ 2    ┆ 0.002333 │\n",
      "│ addilynn rustic wood wall mirr… ┆ Wall & Accent Mirrors ┆ 2    ┆ 0.001549 │\n",
      "└─────────────────────────────────┴───────────────────────┴──────┴──────────┘\n"
     ]
    }
   ],
   "source": [
    "import time\n",
    "SEED = 42\n",
    "random.seed(SEED)\n",
    "os.environ['PYTHONHASHSEED'] = str(SEED)\n",
    "np.random.seed(SEED)\n",
    "torch.manual_seed(SEED)\n",
    "torch.cuda.manual_seed(SEED)\n",
    "torch.cuda.manual_seed_all(SEED) \n",
    "torch.backends.cudnn.benchmark = False\n",
    "torch.backends.cudnn.deterministic = True\n",
    "torch.backends.cudnn.enabled = False\n",
    "pl.Config.set_tbl_formatting(\"UTF8_FULL_CONDENSED\")\n",
    "\n",
    "query = 'full length mirror'\n",
    "jumlah= 50\n",
    "qclass = 'Wall & Accent Mirrors'\n",
    "# qclass=''\n",
    "model.retrieve(query, qclass,jumlah)"
   ]
  },
  {
   "cell_type": "code",
   "execution_count": 14,
   "metadata": {},
   "outputs": [
    {
     "name": "stderr",
     "output_type": "stream",
     "text": [
      "Predicting WANDS: 100%|██████████| 519/519 [00:00<00:00, 1975.81it/s]"
     ]
    },
    {
     "name": "stdout",
     "output_type": "stream",
     "text": [
      " Time taken for this query: 78.125 ms \n",
      " shape: (50, 4)\n",
      "┌─────────────────────────────────┬───────────────┬──────┬──────────┐\n",
      "│ item                            ┆ group         ┆ type ┆ score    │\n",
      "│ ---                             ┆ ---           ┆ ---  ┆ ---      │\n",
      "│ str                             ┆ str           ┆ i64  ┆ f64      │\n",
      "╞═════════════════════════════════╪═══════════════╪══════╪══════════╡\n",
      "│ office chair                    ┆ Office Chairs ┆ 2    ┆ 0.028614 │\n",
      "│ tristani executive chair        ┆ Office Chairs ┆ 2    ┆ 0.026778 │\n",
      "│ almida ergonomic executive cha… ┆ Office Chairs ┆ 2    ┆ 0.025265 │\n",
      "│ lowellville patacas ergonomic … ┆ Office Chairs ┆ 2    ┆ 0.025021 │\n",
      "│ mcglone ergonomic executive ch… ┆ Office Chairs ┆ 2    ┆ 0.024806 │\n",
      "│ …                               ┆ …             ┆ …    ┆ …        │\n",
      "│ dcarlo executive chair          ┆ Office Chairs ┆ 2    ┆ 0.017114 │\n",
      "│ ageliki ergonomic conference c… ┆ Office Chairs ┆ 2    ┆ 0.017107 │\n",
      "│ ellender office chair           ┆ Office Chairs ┆ 2    ┆ 0.016306 │\n",
      "│ coella executive chair          ┆ Office Chairs ┆ 2    ┆ 0.01592  │\n",
      "│ nettles task chair              ┆ Office Chairs ┆ 2    ┆ 0.015406 │\n",
      "└─────────────────────────────────┴───────────────┴──────┴──────────┘\n"
     ]
    },
    {
     "name": "stderr",
     "output_type": "stream",
     "text": [
      "\n"
     ]
    }
   ],
   "source": [
    "\t\n",
    "SEED = 42\n",
    "random.seed(SEED)\n",
    "os.environ['PYTHONHASHSEED'] = str(SEED)\n",
    "np.random.seed(SEED)\n",
    "torch.manual_seed(SEED)\n",
    "torch.cuda.manual_seed(SEED)\n",
    "torch.cuda.manual_seed_all(SEED) \n",
    "torch.backends.cudnn.benchmark = False\n",
    "torch.backends.cudnn.deterministic = True\n",
    "torch.backends.cudnn.enabled = False\n",
    "pl.Config.set_tbl_formatting(\"UTF8_FULL_CONDENSED\")\n",
    "\n",
    "query = 'ergonomic chair'\n",
    "jumlah= 50\n",
    "qclass = 'Office Chairs'\n",
    "model.retrieve(query, qclass,jumlah)"
   ]
  }
 ],
 "metadata": {
  "kernelspec": {
   "display_name": "Python 3",
   "language": "python",
   "name": "python3"
  },
  "language_info": {
   "codemirror_mode": {
    "name": "ipython",
    "version": 3
   },
   "file_extension": ".py",
   "mimetype": "text/x-python",
   "name": "python",
   "nbconvert_exporter": "python",
   "pygments_lexer": "ipython3",
   "version": "3.11.3"
  }
 },
 "nbformat": 4,
 "nbformat_minor": 2
}
